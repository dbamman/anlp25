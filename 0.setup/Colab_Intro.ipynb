{
 "cells": [
  {
   "cell_type": "markdown",
   "metadata": {
    "id": "3Czr6kx-iG0f"
   },
   "source": [
    "## If you are not viewing this notebook in Colab already, open this link:\n",
    "\n",
    "https://colab.research.google.com/github/dbamman/anlp25/blob/main/0.setup/Colab_Intro.ipynb"
   ]
  },
  {
   "cell_type": "markdown",
   "metadata": {
    "id": "LHwApS9faNtL"
   },
   "source": [
    "# What is Colab?"
   ]
  },
  {
   "cell_type": "markdown",
   "metadata": {
    "id": "x5OxnvOFiPW-"
   },
   "source": [
    "* Colab is a free [Jupyter Notebook](https://jupyter.org/)\n",
    "environment hosted by Google that allows you to develop and run code and analyze data using computing resources in the cloud.  In this class, we'll typically use it for programming assignments in Python.\n",
    "\n",
    "\n",
    "* Colab Notebooks (like this one) consist of \"Cells\" that help organize code and text. From within Colab, you can add a Code Cell or a Text Cell by clicking the \"+ Code\" or \"+ Text\" buttons on the top left.\n",
    "\n",
    "\n",
    "* Google provides lots more details and tips about Colab in their [tutorials](https://colab.research.google.com/notebooks/welcome.ipynb).  If you are new to Colab, you might find these tutorials helpful to get up to speed.\n",
    "\n",
    "\n",
    "* To execute the code in a cell, use the key-command `shift+enter`. Try that out on the code cell below"
   ]
  },
  {
   "cell_type": "code",
   "execution_count": null,
   "metadata": {
    "colab": {
     "base_uri": "https://localhost:8080/"
    },
    "id": "G8xrN0Fp4W8Z",
    "outputId": "981f069a-11fb-4678-bf95-39857227c938"
   },
   "outputs": [],
   "source": [
    "5 + 5"
   ]
  },
  {
   "cell_type": "markdown",
   "metadata": {
    "id": "uSU4zkGNk2d7"
   },
   "source": [
    "# Creating a Colab Notebook"
   ]
  },
  {
   "cell_type": "markdown",
   "metadata": {
    "id": "aX9E3gEQk9Ww"
   },
   "source": [
    "* You need to be signed into a Google account in order to create, edit, and save Colab Notebooks.  You can create a new Notebook and find your saved Notebooks by going to https://colab.research.google.com/ while logged into your Google account.\n",
    "\n",
    "\n",
    "* We recommend that you use your Berkeley Gmail account rather than a personal Gmail for this class in order to avoid confusion.  When viewing a notebook, you can make sure that you're using the right Gmail account by clicking on your profile icon at the top right, and switch accounts if necessary.\n",
    "\n",
    "\n",
    "* Saved notebooks will then be stored in your account on Google Drive.  "
   ]
  },
  {
   "cell_type": "markdown",
   "metadata": {
    "id": "Adp_2QRGnf6q"
   },
   "source": [
    "# Viewing a Colab hosted on Github"
   ]
  },
  {
   "cell_type": "markdown",
   "metadata": {
    "id": "qwEEzj12nnhT"
   },
   "source": [
    "* In addition to Google Drive, Colab Notebooks can also be opened in the browser if they are stored on Github. For this class, assignments or examples will be posted on the course Github. Jupyter Notebooks are files with the extension \".ipynb\".\n",
    "\n",
    "\n",
    "* If a Jupyter Notebook is posted on Github, you can open it in Colab by copying the web address address of the '.ipynb' file and pointing your browser to `https://colab.research.google.com/github/{github-path-to-notebook}`\n",
    "\n",
    "\n",
    "* For example, this notebook can be opened in Colab via `https://colab.research.google.com/github/dbamman/anlp25/blob/main/0.setup/Colab_Intro.ipynb`\n",
    "\n"
   ]
  },
  {
   "cell_type": "markdown",
   "metadata": {
    "id": "LR_mOI-c-NCi"
   },
   "source": [
    "# Making and saving changes\n"
   ]
  },
  {
   "cell_type": "markdown",
   "metadata": {
    "id": "v70WXknW-IUC"
   },
   "source": [
    "\n",
    "\n",
    "* Once you've opened a Notebook in Colab, you can run the code and make edits. To save your changes, click on File->Save in the menu.\n",
    "\n",
    "* **If you are editing a copy of a Colab that you opened from Github, your edits will only be saved once you save a copy in your Google Drive.** To do this, click on File->Save a copy in Drive.\n",
    "  * By default, this should save the notebook into `My Drive/Colab Notebooks` on your Google Drive. You can find the exact location of your notebook (and move it, if you'd like) by clicking on File->Locate in Drive.\n",
    "\n",
    "* In order to get started on an assigment, you'll want to open the starter notebook from Github in Colab and then save a copy into your Google Drive so that you can make changes to complete the assignment."
   ]
  },
  {
   "cell_type": "markdown",
   "metadata": {
    "id": "Q8B8Motvs7_o"
   },
   "source": [
    "# What is a Runtime?"
   ]
  },
  {
   "cell_type": "markdown",
   "metadata": {
    "id": "Eg1Gb4jDtAqQ"
   },
   "source": [
    "* Each time you open a Notebook in Colab, you are actually connecting to a computer (a server running the Linux operating system) in the Cloud, hosted by Google. When you execute your code, it's actually running on that computer and sending back any results to display in your browser.  In Colab, this connection between a Google server and your browser is called a 'Runtime'.\n",
    "\n",
    "\n",
    "* Because Google provides these servers free to Colab users, running code on Colab lets you take advantage of powerful hardware to run computations faster than you could on a laptop, for example.\n",
    "\n",
    "\n",
    "* Because you need to connect to a \"Runtime\" in order to use Colab, each time you connect, you'll need to re-run setup code each time you re-connect (such as installing Python libraries or downloading data). This can take a few minutes, but it's a necessary trade-off in order to be able to use these free computational resources."
   ]
  },
  {
   "cell_type": "markdown",
   "metadata": {
    "id": "4SXW_o2IspPO"
   },
   "source": [
    "# Downloading Data"
   ]
  },
  {
   "cell_type": "markdown",
   "metadata": {
    "id": "F6y4nB-mssDQ"
   },
   "source": [
    "* To work with data in Colab, we need to download the data to the computer you're connecting to in your Runtime. Data can be downloaded using the `!wget` command or by connecting to files on Google Drive.\n",
    "\n",
    "\n",
    "* When possible, data for course assignments will be uploaded to the course Github and then can be downloaded from within Colab. Make sure to download the 'raw' content of the file."
   ]
  },
  {
   "cell_type": "code",
   "execution_count": null,
   "metadata": {
    "colab": {
     "base_uri": "https://localhost:8080/"
    },
    "id": "tTDnmG42lxKS",
    "outputId": "686167fe-0ebd-426d-e2dd-a115457dc153"
   },
   "outputs": [],
   "source": [
    "!wget --no-check-certificate https://raw.githubusercontent.com/dbamman/anlp25/master/0.setup/example_data.txt\n",
    "!ls"
   ]
  },
  {
   "cell_type": "markdown",
   "metadata": {
    "id": "Wdjq8WTp3teF"
   },
   "source": [
    "* Let's open a file from the course Github using Python and print out the contents."
   ]
  },
  {
   "cell_type": "code",
   "execution_count": null,
   "metadata": {
    "colab": {
     "base_uri": "https://localhost:8080/"
    },
    "id": "oRCQFiJe3kiQ",
    "outputId": "f41eb2d7-22d4-4e1b-e7ea-30da62794a41"
   },
   "outputs": [],
   "source": [
    "open('example_data.txt').read().split('\\n')"
   ]
  },
  {
   "cell_type": "markdown",
   "metadata": {
    "id": "jIIPppLCXPLj"
   },
   "source": [
    "# Enabling GPU\n",
    "\n"
   ]
  },
  {
   "cell_type": "markdown",
   "metadata": {
    "id": "_WGIRKTQaD47"
   },
   "source": [
    "* For some assignments in this class, you will want to enable Colab's GPU, which allows neural models to train much faster (~20x!) than on a CPU.\n",
    "\n",
    "\n",
    "* GPU is not enabled by default on Colab.  To do so, perform the following:\n",
    "    \n",
    "    * Go to Runtime -> Change runtime type.\n",
    "\n",
    "    * Under \"Hardware Accelerator\", select one of the \"GPU\" options (e.g., \"T4 GPU\")\n",
    "\n",
    "\n",
    "* In order to confirm GPU is enabled, run the following command in your Colab notebook:"
   ]
  },
  {
   "cell_type": "code",
   "execution_count": null,
   "metadata": {
    "colab": {
     "base_uri": "https://localhost:8080/"
    },
    "id": "a4mEXvEQaD48",
    "outputId": "38ac05bf-05f4-4cab-ed99-5568c0d40aae"
   },
   "outputs": [],
   "source": [
    "import torch\n",
    "print(torch.cuda.is_available())"
   ]
  },
  {
   "cell_type": "markdown",
   "metadata": {
    "id": "w7jgBtSJaD4_"
   },
   "source": [
    "If the cell returns `True`, it means GPU is enabled. If it returns `False`, it means the GPU is not enabled.\n",
    "\n",
    "Let's see the difference in runtime when we do a matrix multiplication on the CPU compared to the GPU."
   ]
  },
  {
   "cell_type": "code",
   "execution_count": null,
   "metadata": {
    "colab": {
     "base_uri": "https://localhost:8080/"
    },
    "id": "oLO6-fCbaD4_",
    "outputId": "38ee7e5f-79a9-405b-d676-5592541a1d99"
   },
   "outputs": [],
   "source": [
    "%%timeit\n",
    "\n",
    "# By default, pytorch uses the CPU.\n",
    "mat_a = torch.rand((1024, 1024))\n",
    "mat_b = torch.rand((1024, 8192))\n",
    "\n",
    "torch.matmul(mat_a, mat_b)"
   ]
  },
  {
   "cell_type": "code",
   "execution_count": null,
   "metadata": {
    "colab": {
     "base_uri": "https://localhost:8080/"
    },
    "id": "MN3tYvCz8Ik_",
    "outputId": "2a175782-99e9-4f8e-bf5f-f6c9573eb33e"
   },
   "outputs": [],
   "source": [
    "%%timeit\n",
    "\n",
    "# By setting the device to `cuda`, we are doing these computations on the GPU.\n",
    "mat_a = torch.rand((1024, 1024), device=\"cuda\")\n",
    "mat_b = torch.rand((1024, 8192), device=\"cuda\")\n",
    "\n",
    "torch.matmul(mat_a, mat_b)"
   ]
  }
 ],
 "metadata": {
  "accelerator": "GPU",
  "colab": {
   "gpuType": "T4",
   "provenance": [],
   "toc_visible": true
  },
  "kernelspec": {
   "display_name": "Python 3 (ipykernel)",
   "language": "python",
   "name": "python3"
  },
  "language_info": {
   "codemirror_mode": {
    "name": "ipython",
    "version": 3
   },
   "file_extension": ".py",
   "mimetype": "text/x-python",
   "name": "python",
   "nbconvert_exporter": "python",
   "pygments_lexer": "ipython3",
   "version": "3.13.5"
  }
 },
 "nbformat": 4,
 "nbformat_minor": 4
}
